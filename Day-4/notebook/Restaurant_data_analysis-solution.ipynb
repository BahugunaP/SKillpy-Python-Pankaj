{
 "cells": [
  {
   "cell_type": "markdown",
   "metadata": {},
   "source": [
    "# Restaurant Data Analysis\n",
    "\n",
    "This is an Indian restaurant data set founded in 2010. This aggregator provides information, menus and user-reviews of restaurants as well as food delivery options from partner restaurants in select cities.\n",
    "\n",
    "## Problem Statement\n",
    "Today, we are going to analyze the restaurant business data. We want to study the food habbits of zomato users, their preferances, ratings etc. \n",
    "\n",
    "## Data description:\n",
    "\n",
    "Every Restaurant contains the following variables:\n",
    "\n",
    "• **Restaurant Id**: Unique id of every restaurant \n",
    "\n",
    "• **Restaurant Name**: Restaurant Name \n",
    "\n",
    "• **Country Code**: Countery of a restaurant \n",
    "\n",
    "• **City**: City of a  restaurant \n",
    "\n",
    "• **Address**: Address \n",
    "\n",
    "• **Locality**: City Location \n",
    "\n",
    "• **Locality Verbose**: Locality description\n",
    "\n",
    "• **Longitude**: Longitude coordinates \n",
    "\n",
    "• **Latitude**: Latitude coordinates \n",
    "\n",
    "• **Cuisines**: Cuisines by restaurant\n",
    "\n",
    "• **Average Cost for two**: Cost for two people  \n",
    "\n",
    "• **Currency**: Country Currency \n",
    "\n",
    "• **Has Table booking**: y/n\n",
    "\n",
    "• **Has Online delivery**: y/ n\n",
    "\n",
    "• **Is delivering**: y/n\n",
    "\n",
    "• **Switch to order menu**: y/n\n",
    "\n",
    "• **Price range**: Food price range \n",
    "\n",
    "• **Aggregate Rating**: out of 5 rating\n",
    "\n",
    "• **Rating color**: rating color based on rating\n",
    "\n",
    "• **Rating text**: text on the basis of rating\n",
    "\n",
    "• **Votes**: Number of ratings casted by customers \n",
    "\n",
    "\n",
    "**There is another dataset which has the country codes in it**"
   ]
  },
  {
   "cell_type": "markdown",
   "metadata": {},
   "source": [
    "### Import Libraries"
   ]
  },
  {
   "cell_type": "code",
   "execution_count": 6,
   "metadata": {},
   "outputs": [],
   "source": [
    "import os\n",
    "import numpy as np \n",
    "import pandas as pd \n",
    "import matplotlib.pyplot as plt\n",
    "import seaborn as sns\n",
    "\n",
    "%matplotlib inline"
   ]
  },
  {
   "cell_type": "markdown",
   "metadata": {},
   "source": [
    "### Read the data and merge the two different datasets"
   ]
  },
  {
   "cell_type": "code",
   "execution_count": 9,
   "metadata": {},
   "outputs": [],
   "source": [
    "# df = pd.read_csv('../data/zomato.csv',encoding=\"ISO-8859-1\")\n",
    "# df.tail(10)\n",
    "\n",
    "#Typical FIle Handling Sequence \n",
    "\n",
    "\n"
   ]
  },
  {
   "cell_type": "code",
   "execution_count": 5,
   "metadata": {},
   "outputs": [],
   "source": [
    "# country = pd.read_excel('../data/Country-Code.xlsx')\n"
   ]
  },
  {
   "cell_type": "code",
   "execution_count": 7,
   "metadata": {},
   "outputs": [],
   "source": [
    "# data = pd.merge(df, country, on='Country Code')\n"
   ]
  },
  {
   "cell_type": "markdown",
   "metadata": {},
   "source": [
    "### Basic Data Study"
   ]
  },
  {
   "cell_type": "code",
   "execution_count": 11,
   "metadata": {},
   "outputs": [],
   "source": [
    "#info\n"
   ]
  },
  {
   "cell_type": "code",
   "execution_count": 12,
   "metadata": {},
   "outputs": [],
   "source": [
    "#describe about data\n"
   ]
  },
  {
   "cell_type": "code",
   "execution_count": 13,
   "metadata": {},
   "outputs": [],
   "source": [
    "#Find Null Values Count"
   ]
  },
  {
   "cell_type": "markdown",
   "metadata": {},
   "source": [
    "### Number of Restaurants by Country on Zomato - Count"
   ]
  },
  {
   "cell_type": "code",
   "execution_count": 11,
   "metadata": {},
   "outputs": [],
   "source": [
    "# No of restaurant that are on zomato in each countryb"
   ]
  },
  {
   "cell_type": "markdown",
   "metadata": {},
   "source": [
    "### Number of Restaurants by Country on Zomato - Plot"
   ]
  },
  {
   "cell_type": "code",
   "execution_count": null,
   "metadata": {},
   "outputs": [],
   "source": []
  },
  {
   "cell_type": "markdown",
   "metadata": {},
   "source": [
    "### Which city of India has the maximum number of Restaurents? - Count"
   ]
  },
  {
   "cell_type": "code",
   "execution_count": null,
   "metadata": {},
   "outputs": [],
   "source": []
  },
  {
   "cell_type": "markdown",
   "metadata": {},
   "source": [
    "### Which city of India has the maximum number of Restaurents? - Plot"
   ]
  },
  {
   "cell_type": "code",
   "execution_count": null,
   "metadata": {},
   "outputs": [],
   "source": []
  },
  {
   "cell_type": "markdown",
   "metadata": {},
   "source": [
    "### Plot the ratings histogram for Indian restaurents"
   ]
  },
  {
   "cell_type": "code",
   "execution_count": null,
   "metadata": {},
   "outputs": [],
   "source": []
  },
  {
   "cell_type": "markdown",
   "metadata": {},
   "source": [
    "### Home Exercise 1- What is the situation of online delivery in India ? - Plot\n"
   ]
  },
  {
   "cell_type": "code",
   "execution_count": null,
   "metadata": {},
   "outputs": [],
   "source": []
  }
 ],
 "metadata": {
  "kernelspec": {
   "display_name": "Python 3",
   "language": "python",
   "name": "python3"
  },
  "language_info": {
   "codemirror_mode": {
    "name": "ipython",
    "version": 3
   },
   "file_extension": ".py",
   "mimetype": "text/x-python",
   "name": "python",
   "nbconvert_exporter": "python",
   "pygments_lexer": "ipython3",
   "version": "3.8.3"
  }
 },
 "nbformat": 4,
 "nbformat_minor": 4
}
